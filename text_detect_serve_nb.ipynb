{
 "cells": [
  {
   "cell_type": "markdown",
   "metadata": {},
   "source": [
    "### Install Dependencies"
   ]
  },
  {
   "cell_type": "code",
   "execution_count": 2,
   "metadata": {},
   "outputs": [
    {
     "name": "stdout",
     "output_type": "stream",
     "text": [
      "Collecting pytesseract\n",
      "  Downloading pytesseract-0.3.6.tar.gz (13 kB)\n",
      "Requirement already satisfied: Pillow in /opt/anaconda3/lib/python3.8/site-packages (from pytesseract) (7.2.0)\n",
      "Building wheels for collected packages: pytesseract\n",
      "  Building wheel for pytesseract (setup.py) ... \u001b[?25ldone\n",
      "\u001b[?25h  Created wheel for pytesseract: filename=pytesseract-0.3.6-py2.py3-none-any.whl size=13631 sha256=20591e7fc9354fa2eb9b7269d58c6bb6f3d4382ba7ae7e95e635e3a19248d988\n",
      "  Stored in directory: /Users/xavierpuspus/Library/Caches/pip/wheels/be/c9/54/c3a5693600be95ece493b981ae104c94e1a2c4d3e434438810\n",
      "Successfully built pytesseract\n",
      "Installing collected packages: pytesseract\n",
      "Successfully installed pytesseract-0.3.6\n"
     ]
    }
   ],
   "source": [
    "# Might need to install tesseract into your system separately\n",
    "!pip install pytesseract"
   ]
  },
  {
   "cell_type": "markdown",
   "metadata": {},
   "source": [
    "### Write Text Detection"
   ]
  },
  {
   "cell_type": "code",
   "execution_count": 14,
   "metadata": {},
   "outputs": [],
   "source": [
    "import pytesseract\n",
    "from PIL import Image\n",
    "class TextDetectionFromImage:\n",
    "  \"\"\"\n",
    "  Simple python class to detet images from object\n",
    "  \"\"\"\n",
    "  def __init__(self):\n",
    "    pass\n",
    "\n",
    "  def detect_text(self, image):\n",
    "    im = Image.open(image)\n",
    "    text = pytesseract.image_to_string(im)\n",
    "    clean_text = text.replace(\" \\n\\x0c\", \"\").replace(\"\\n\", \"\")\n",
    "    text_exists = clean_text != ''\n",
    "    \n",
    "    return text_exists, clean_text\n",
    "\n",
    "text_detector = TextDetectionFromImage()"
   ]
  },
  {
   "cell_type": "code",
   "execution_count": 15,
   "metadata": {},
   "outputs": [
    {
     "data": {
      "text/plain": [
       "(True, ' eo  _sfg esats dicbialias | «')"
      ]
     },
     "execution_count": 15,
     "metadata": {},
     "output_type": "execute_result"
    }
   ],
   "source": [
    "text_detector.detect_text('images/plate_number.jpg')"
   ]
  },
  {
   "cell_type": "markdown",
   "metadata": {},
   "source": [
    "### Write service file"
   ]
  },
  {
   "cell_type": "code",
   "execution_count": 28,
   "metadata": {},
   "outputs": [
    {
     "data": {
      "text/plain": [
       "<module 'pytesseract' from '/opt/anaconda3/lib/python3.8/site-packages/pytesseract/__init__.py'>"
      ]
     },
     "execution_count": 28,
     "metadata": {},
     "output_type": "execute_result"
    }
   ],
   "source": [
    "pytesseract"
   ]
  },
  {
   "cell_type": "code",
   "execution_count": 29,
   "metadata": {},
   "outputs": [
    {
     "name": "stdout",
     "output_type": "stream",
     "text": [
      "Overwriting text_detection_service.py\n"
     ]
    }
   ],
   "source": [
    "%%writefile text_detection_service.py\n",
    "\n",
    "from bentoml import BentoService, api, env, artifacts\n",
    "from bentoml.artifact import PickleArtifact\n",
    "from bentoml.adapters import ImageInput\n",
    "\n",
    "@artifacts([PickleArtifact('model')])\n",
    "@env(pip_dependencies=['pytesseract-0.3.6'], \n",
    "     conda_channels=[\"conda-forge\"], \n",
    "     conda_dependencies=[\"ruamel.yaml\"])\n",
    "class TextDetectionService(BentoService):\n",
    "    \n",
    "    @api(input=ImageInput())\n",
    "    def predict(self, image):\n",
    "        result = self.artifacts.model.detect_text(image)\n",
    "        return result"
   ]
  },
  {
   "cell_type": "markdown",
   "metadata": {},
   "source": [
    "### Package Model and Serve"
   ]
  },
  {
   "cell_type": "code",
   "execution_count": 30,
   "metadata": {},
   "outputs": [
    {
     "name": "stdout",
     "output_type": "stream",
     "text": [
      "[2020-09-09 16:14:51,836] INFO - BentoService bundle 'TextDetectionService:20200909161450_4B2FEE' saved to: /Users/xavierpuspus/bentoml/repository/TextDetectionService/20200909161450_4B2FEE\n"
     ]
    }
   ],
   "source": [
    "# 1) import the custom BentoService defined above\n",
    "from text_detection_service import TextDetectionService\n",
    "\n",
    "# 2) `pack` it with required artifacts\n",
    "bento_service = TextDetectionService()\n",
    "bento_service.pack(\"model\", text_detector)\n",
    "\n",
    "# 3) save your BentoService to file archive\n",
    "saved_path = bento_service.save()"
   ]
  },
  {
   "cell_type": "markdown",
   "metadata": {},
   "source": [
    "### Docker Build"
   ]
  },
  {
   "cell_type": "markdown",
   "metadata": {},
   "source": [
    "!cd {saved_path} && docker build -t text-detector ."
   ]
  },
  {
   "cell_type": "code",
   "execution_count": 31,
   "metadata": {},
   "outputs": [
    {
     "name": "stdout",
     "output_type": "stream",
     "text": [
      "INFO: Successfully saved requirements file in ./requirements.txt\n"
     ]
    }
   ],
   "source": [
    "!pipreqs ."
   ]
  }
 ],
 "metadata": {
  "kernelspec": {
   "display_name": "Python 3",
   "language": "python",
   "name": "python3"
  },
  "language_info": {
   "codemirror_mode": {
    "name": "ipython",
    "version": 3
   },
   "file_extension": ".py",
   "mimetype": "text/x-python",
   "name": "python",
   "nbconvert_exporter": "python",
   "pygments_lexer": "ipython3",
   "version": "3.8.3"
  }
 },
 "nbformat": 4,
 "nbformat_minor": 4
}
