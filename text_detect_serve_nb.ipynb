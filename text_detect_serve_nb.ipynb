{
 "cells": [
  {
   "cell_type": "markdown",
   "metadata": {},
   "source": [
    "### Install Dependencies"
   ]
  },
  {
   "cell_type": "code",
   "execution_count": null,
   "metadata": {},
   "outputs": [],
   "source": [
    "# Might need to install tesseract into your system separately\n",
    "# !pip install pytesseract"
   ]
  },
  {
   "cell_type": "code",
   "execution_count": 1,
   "metadata": {},
   "outputs": [
    {
     "name": "stdout",
     "output_type": "stream",
     "text": [
      "Collecting easyocr\n",
      "  Downloading easyocr-1.1.9-py3-none-any.whl (48.4 MB)\n",
      "\u001b[K     |████████████████████████████████| 48.4 MB 11.4 MB/s eta 0:00:01   |█▏                              | 1.7 MB 561 kB/s eta 0:01:24     |██▉                             | 4.3 MB 5.8 MB/s eta 0:00:08     |██████▌                         | 9.8 MB 5.8 MB/s eta 0:00:07     |██████████████████████████████▋ | 46.3 MB 4.9 MB/s eta 0:00:01\n",
      "\u001b[?25hRequirement already satisfied: torch in /opt/anaconda3/lib/python3.8/site-packages (from easyocr) (1.6.0)\n",
      "Requirement already satisfied: scipy in /opt/anaconda3/lib/python3.8/site-packages (from easyocr) (1.5.0)\n",
      "Requirement already satisfied: Pillow in /opt/anaconda3/lib/python3.8/site-packages (from easyocr) (7.2.0)\n",
      "Collecting opencv-python\n",
      "  Downloading opencv_python-4.4.0.42-cp38-cp38-macosx_10_13_x86_64.whl (52.2 MB)\n",
      "\u001b[K     |████████████████████████████████| 52.2 MB 10.3 MB/s eta 0:00:01   |█████▏                          | 8.4 MB 9.4 MB/s eta 0:00:05     |█████████████████████▍          | 34.9 MB 9.6 MB/s eta 0:00:02\n",
      "\u001b[?25hCollecting python-bidi\n",
      "  Downloading python_bidi-0.4.2-py2.py3-none-any.whl (30 kB)\n",
      "Requirement already satisfied: numpy in /opt/anaconda3/lib/python3.8/site-packages (from easyocr) (1.18.5)\n",
      "Collecting torchvision>=0.5\n",
      "  Downloading torchvision-0.7.0-cp38-cp38-macosx_10_9_x86_64.whl (387 kB)\n",
      "\u001b[K     |████████████████████████████████| 387 kB 12.8 MB/s eta 0:00:01\n",
      "\u001b[?25hRequirement already satisfied: scikit-image in /opt/anaconda3/lib/python3.8/site-packages (from easyocr) (0.16.2)\n",
      "Requirement already satisfied: future in /opt/anaconda3/lib/python3.8/site-packages (from torch->easyocr) (0.18.2)\n",
      "Requirement already satisfied: six in /opt/anaconda3/lib/python3.8/site-packages (from python-bidi->easyocr) (1.15.0)\n",
      "Requirement already satisfied: imageio>=2.3.0 in /opt/anaconda3/lib/python3.8/site-packages (from scikit-image->easyocr) (2.9.0)\n",
      "Requirement already satisfied: matplotlib!=3.0.0,>=2.0.0 in /opt/anaconda3/lib/python3.8/site-packages (from scikit-image->easyocr) (3.2.2)\n",
      "Requirement already satisfied: PyWavelets>=0.4.0 in /opt/anaconda3/lib/python3.8/site-packages (from scikit-image->easyocr) (1.1.1)\n",
      "Requirement already satisfied: networkx>=2.0 in /opt/anaconda3/lib/python3.8/site-packages (from scikit-image->easyocr) (2.4)\n",
      "Requirement already satisfied: cycler>=0.10 in /opt/anaconda3/lib/python3.8/site-packages (from matplotlib!=3.0.0,>=2.0.0->scikit-image->easyocr) (0.10.0)\n",
      "Requirement already satisfied: python-dateutil>=2.1 in /opt/anaconda3/lib/python3.8/site-packages (from matplotlib!=3.0.0,>=2.0.0->scikit-image->easyocr) (2.8.0)\n",
      "Requirement already satisfied: kiwisolver>=1.0.1 in /opt/anaconda3/lib/python3.8/site-packages (from matplotlib!=3.0.0,>=2.0.0->scikit-image->easyocr) (1.2.0)\n",
      "Requirement already satisfied: pyparsing!=2.0.4,!=2.1.2,!=2.1.6,>=2.0.1 in /opt/anaconda3/lib/python3.8/site-packages (from matplotlib!=3.0.0,>=2.0.0->scikit-image->easyocr) (2.4.7)\n",
      "Requirement already satisfied: decorator>=4.3.0 in /opt/anaconda3/lib/python3.8/site-packages (from networkx>=2.0->scikit-image->easyocr) (4.4.2)\n",
      "Installing collected packages: opencv-python, python-bidi, torchvision, easyocr\n",
      "Successfully installed easyocr-1.1.9 opencv-python-4.4.0.42 python-bidi-0.4.2 torchvision-0.7.0\n"
     ]
    }
   ],
   "source": [
    "!pip install easyocr"
   ]
  },
  {
   "cell_type": "markdown",
   "metadata": {},
   "source": [
    "### Write Text Detection Class"
   ]
  },
  {
   "cell_type": "code",
   "execution_count": 2,
   "metadata": {},
   "outputs": [
    {
     "name": "stderr",
     "output_type": "stream",
     "text": [
      "CUDA not available - defaulting to CPU. Note: This module is much faster with a GPU.\n",
      "Downloading detection model, please wait. This may take several minutes depending upon your network connection.\n"
     ]
    },
    {
     "name": "stdout",
     "output_type": "stream",
     "text": [
      "Progress: |██████████████████████████████████████████████████| 100.0% Complete\r"
     ]
    },
    {
     "name": "stderr",
     "output_type": "stream",
     "text": [
      "Downloading recognition model, please wait. This may take several minutes depending upon your network connection.\n"
     ]
    },
    {
     "name": "stdout",
     "output_type": "stream",
     "text": [
      "Progress: |██████████████████████████████████████████████████| 100.0% Complete\r"
     ]
    }
   ],
   "source": [
    "import easyocr\n",
    "reader = easyocr.Reader(['en']) # need to run only once to load model into memory\n",
    "result = reader.readtext('images/plate_number.jpg')"
   ]
  },
  {
   "cell_type": "code",
   "execution_count": 3,
   "metadata": {},
   "outputs": [
    {
     "data": {
      "text/plain": [
       "[([[0, 390], [78, 390], [78, 444], [0, 444]], 'NA', 0.9352347254753113),\n",
       " ([[85, 459], [113, 459], [113, 479], [85, 479]], 'LNL', 0.05920890346169472),\n",
       " ([[82, 460], [212, 460], [212, 508], [82, 508]],\n",
       "  'PhPHUHFIP',\n",
       "  0.00015153623826336116),\n",
       " ([[0, 489], [75, 489], [75, 529], [0, 529]], 'ALA', 0.5165254473686218),\n",
       " ([[85, 495], [170, 495], [170, 523], [85, 523]],\n",
       "  'Pharmacy',\n",
       "  0.844280481338501),\n",
       " ([[411, 542], [534, 542], [534, 605], [411, 605]], 'TGP', 0.5467938184738159),\n",
       " ([[407, 606], [551, 606], [551, 627], [407, 627]],\n",
       "  'THE GJNEBICS PHARMICV',\n",
       "  0.0003282821271568537),\n",
       " ([[916, 616], [979, 616], [979, 634], [916, 634]],\n",
       "  'Generlsa',\n",
       "  0.3196142613887787),\n",
       " ([[222, 650], [272, 650], [272, 700], [222, 700]],\n",
       "  'Lil',\n",
       "  0.06678491085767746),\n",
       " ([[101, 718], [229, 718], [229, 736], [101, 736]],\n",
       "  'Ausonomaus Urlyrrsity',\n",
       "  0.019428178668022156),\n",
       " ([[111, 733], [223, 733], [223, 749], [111, 749]],\n",
       "  'as gran!ed byLHgD',\n",
       "  0.004948889371007681),\n",
       " ([[142, 762], [178, 762], [178, 770], [142, 770]],\n",
       "  '11566',\n",
       "  1.0189950216954458e-07),\n",
       " ([[147, 771], [213, 771], [213, 785], [147, 785]],\n",
       "  '007072::2.',\n",
       "  3.651897714007646e-05),\n",
       " ([[363, 778], [467, 778], [467, 830], [363, 830]],\n",
       "  '|8072',\n",
       "  0.16326113045215607),\n",
       " ([[854, 1016], [1013, 1016], [1013, 1036], [854, 1036]],\n",
       "  'ygy!u citimotors .coln',\n",
       "  0.0006339055253192782),\n",
       " ([[637, 1252], [788, 1252], [788, 1296], [637, 1296]],\n",
       "  'NM 8072',\n",
       "  0.3945816457271576),\n",
       " ([[78, 1386], [1489, 1386], [1489, 1542], [78, 1542]],\n",
       "  'literal na plate number...',\n",
       "  0.32701995968818665)]"
      ]
     },
     "execution_count": 3,
     "metadata": {},
     "output_type": "execute_result"
    }
   ],
   "source": [
    "result"
   ]
  },
  {
   "cell_type": "code",
   "execution_count": 11,
   "metadata": {},
   "outputs": [],
   "source": [
    "# result without text\n",
    "result = reader.readtext('images/no_text_image1.jpg')"
   ]
  },
  {
   "cell_type": "code",
   "execution_count": 13,
   "metadata": {},
   "outputs": [
    {
     "data": {
      "text/plain": [
       "True"
      ]
     },
     "execution_count": 13,
     "metadata": {},
     "output_type": "execute_result"
    }
   ],
   "source": [
    "result == []"
   ]
  },
  {
   "cell_type": "code",
   "execution_count": 14,
   "metadata": {},
   "outputs": [
    {
     "name": "stderr",
     "output_type": "stream",
     "text": [
      "CUDA not available - defaulting to CPU. Note: This module is much faster with a GPU.\n"
     ]
    }
   ],
   "source": [
    "import easyocr\n",
    "class TextDetectionFromImage:\n",
    "    \"\"\"\n",
    "    Simple python class to detet images from object\n",
    "    \"\"\"\n",
    "    def __init__(self):\n",
    "        self.reader = easyocr.Reader(['en']) # need to run only once to load model into memory    \n",
    "\n",
    "    def detect_text(self, im):\n",
    "        result = self.reader.readtext(im)\n",
    "        text_exists = result != []\n",
    "          \n",
    "        return {'has_text':text_exists, 'text_and_location': result}\n",
    "\n",
    "text_detector = TextDetectionFromImage()"
   ]
  },
  {
   "cell_type": "code",
   "execution_count": 15,
   "metadata": {},
   "outputs": [],
   "source": [
    "%%time result = text_detector.detect_text('images/plate_number.jpg')"
   ]
  },
  {
   "cell_type": "markdown",
   "metadata": {},
   "source": [
    "### Write service file"
   ]
  },
  {
   "cell_type": "code",
   "execution_count": 17,
   "metadata": {},
   "outputs": [
    {
     "name": "stdout",
     "output_type": "stream",
     "text": [
      "Overwriting text_detection_service.py\n"
     ]
    }
   ],
   "source": [
    "%%writefile text_detection_service.py\n",
    "\n",
    "from bentoml import BentoService, api, env, artifacts\n",
    "from bentoml.artifact import PickleArtifact\n",
    "from bentoml.adapters import FileInput\n",
    "\n",
    "@artifacts([PickleArtifact('model')])\n",
    "@env(pip_dependencies=['easyocr'], \n",
    "     conda_channels=[\"conda-forge\"], \n",
    "     conda_dependencies=[\"ruamel.yaml\"])\n",
    "class TextDetectionService(BentoService):\n",
    "    \n",
    "    @api(input=FileInput())\n",
    "    def predict(self, image):\n",
    "        result = self.artifacts.model.detect_text(image[0])\n",
    "        return result"
   ]
  },
  {
   "cell_type": "markdown",
   "metadata": {},
   "source": [
    "### Package Model and Serve"
   ]
  },
  {
   "cell_type": "code",
   "execution_count": 18,
   "metadata": {},
   "outputs": [
    {
     "name": "stdout",
     "output_type": "stream",
     "text": [
      "[2020-09-18 08:49:18,765] INFO - BentoService bundle 'TextDetectionService:20200918084916_D545CB' saved to: /Users/xavierpuspus/bentoml/repository/TextDetectionService/20200918084916_D545CB\n"
     ]
    }
   ],
   "source": [
    "# 1) import the custom BentoService defined above\n",
    "from text_detection_service import TextDetectionService\n",
    "\n",
    "# 2) `pack` it with required artifacts\n",
    "bento_service = TextDetectionService()\n",
    "bento_service.pack(\"model\", text_detector)\n",
    "\n",
    "# # 3) save your BentoService to file archive\n",
    "saved_path = bento_service.save()"
   ]
  },
  {
   "cell_type": "code",
   "execution_count": 19,
   "metadata": {},
   "outputs": [
    {
     "data": {
      "text/plain": [
       "'/Users/xavierpuspus/bentoml/repository/TextDetectionService/20200918084916_D545CB'"
      ]
     },
     "execution_count": 19,
     "metadata": {},
     "output_type": "execute_result"
    }
   ],
   "source": [
    "saved_path"
   ]
  },
  {
   "cell_type": "code",
   "execution_count": 7,
   "metadata": {},
   "outputs": [
    {
     "name": "stdout",
     "output_type": "stream",
     "text": [
      "[2020-09-11 16:04:04,631] WARNING - Module `text_detection_service` already loaded, using existing imported module.\n",
      "{'has_text': 'True', 'text': '72 100° }Ln;~)QV;ea=)| e2774'}\n"
     ]
    }
   ],
   "source": [
    "from bentoml import load\n",
    "\n",
    "service = load(saved_path)\n",
    "\n",
    "print(service.predict('images/japan72.jpg'))"
   ]
  },
  {
   "cell_type": "code",
   "execution_count": 8,
   "metadata": {},
   "outputs": [
    {
     "name": "stdout",
     "output_type": "stream",
     "text": [
      "{'has_text': 'True', 'text': 'neral na plate number...'}\n"
     ]
    }
   ],
   "source": [
    "print(service.predict('images/plate_number.jpg'))"
   ]
  },
  {
   "cell_type": "code",
   "execution_count": 9,
   "metadata": {},
   "outputs": [
    {
     "name": "stdout",
     "output_type": "stream",
     "text": [
      "Processing /Users/xavierpuspus/bentoml/repository/TextDetectionService/20200911160359_13C4A9\n",
      "Requirement already satisfied: bentoml==0.8.5 in /opt/anaconda3/lib/python3.8/site-packages (from TextDetectionService===20200911160359-13C4A9) (0.8.5)\n",
      "Requirement already satisfied: pytesseract in /opt/anaconda3/lib/python3.8/site-packages (from TextDetectionService===20200911160359-13C4A9) (0.3.6)\n",
      "Requirement already satisfied: pillow in /opt/anaconda3/lib/python3.8/site-packages (from TextDetectionService===20200911160359-13C4A9) (7.2.0)\n",
      "Requirement already satisfied: numpy in /opt/anaconda3/lib/python3.8/site-packages (from TextDetectionService===20200911160359-13C4A9) (1.18.5)\n",
      "Requirement already satisfied: boto3 in /opt/anaconda3/lib/python3.8/site-packages (from bentoml==0.8.5->TextDetectionService===20200911160359-13C4A9) (1.14.48)\n",
      "Requirement already satisfied: cerberus in /opt/anaconda3/lib/python3.8/site-packages (from bentoml==0.8.5->TextDetectionService===20200911160359-13C4A9) (1.3.2)\n",
      "Requirement already satisfied: prometheus-client in /opt/anaconda3/lib/python3.8/site-packages (from bentoml==0.8.5->TextDetectionService===20200911160359-13C4A9) (0.8.0)\n",
      "Requirement already satisfied: ruamel.yaml>=0.15.0 in /opt/anaconda3/lib/python3.8/site-packages (from bentoml==0.8.5->TextDetectionService===20200911160359-13C4A9) (0.16.10)\n",
      "Requirement already satisfied: click>=7.0 in /opt/anaconda3/lib/python3.8/site-packages (from bentoml==0.8.5->TextDetectionService===20200911160359-13C4A9) (7.1.2)\n",
      "Requirement already satisfied: flask in /opt/anaconda3/lib/python3.8/site-packages (from bentoml==0.8.5->TextDetectionService===20200911160359-13C4A9) (1.1.2)\n",
      "Requirement already satisfied: tabulate in /opt/anaconda3/lib/python3.8/site-packages (from bentoml==0.8.5->TextDetectionService===20200911160359-13C4A9) (0.8.7)\n",
      "Requirement already satisfied: humanfriendly in /opt/anaconda3/lib/python3.8/site-packages (from bentoml==0.8.5->TextDetectionService===20200911160359-13C4A9) (8.2)\n",
      "Requirement already satisfied: grpcio<=1.27.2 in /opt/anaconda3/lib/python3.8/site-packages (from bentoml==0.8.5->TextDetectionService===20200911160359-13C4A9) (1.27.2)\n",
      "Requirement already satisfied: certifi in /opt/anaconda3/lib/python3.8/site-packages (from bentoml==0.8.5->TextDetectionService===20200911160359-13C4A9) (2020.6.20)\n",
      "Requirement already satisfied: python-json-logger in /opt/anaconda3/lib/python3.8/site-packages (from bentoml==0.8.5->TextDetectionService===20200911160359-13C4A9) (0.1.11)\n",
      "Requirement already satisfied: gunicorn in /opt/anaconda3/lib/python3.8/site-packages (from bentoml==0.8.5->TextDetectionService===20200911160359-13C4A9) (20.0.4)\n",
      "Requirement already satisfied: aiohttp in /opt/anaconda3/lib/python3.8/site-packages (from bentoml==0.8.5->TextDetectionService===20200911160359-13C4A9) (3.6.2)\n",
      "Requirement already satisfied: py-zipkin in /opt/anaconda3/lib/python3.8/site-packages (from bentoml==0.8.5->TextDetectionService===20200911160359-13C4A9) (0.20.0)\n",
      "Requirement already satisfied: alembic in /opt/anaconda3/lib/python3.8/site-packages (from bentoml==0.8.5->TextDetectionService===20200911160359-13C4A9) (1.4.2)\n",
      "Requirement already satisfied: configparser in /opt/anaconda3/lib/python3.8/site-packages (from bentoml==0.8.5->TextDetectionService===20200911160359-13C4A9) (5.0.0)\n",
      "Requirement already satisfied: docker in /opt/anaconda3/lib/python3.8/site-packages (from bentoml==0.8.5->TextDetectionService===20200911160359-13C4A9) (4.3.1)\n",
      "Requirement already satisfied: packaging in /opt/anaconda3/lib/python3.8/site-packages (from bentoml==0.8.5->TextDetectionService===20200911160359-13C4A9) (20.4)\n",
      "Requirement already satisfied: python-dateutil<2.8.1,>=2.1 in /opt/anaconda3/lib/python3.8/site-packages (from bentoml==0.8.5->TextDetectionService===20200911160359-13C4A9) (2.8.0)\n",
      "Requirement already satisfied: psutil in /opt/anaconda3/lib/python3.8/site-packages (from bentoml==0.8.5->TextDetectionService===20200911160359-13C4A9) (5.7.0)\n",
      "Requirement already satisfied: multidict in /opt/anaconda3/lib/python3.8/site-packages (from bentoml==0.8.5->TextDetectionService===20200911160359-13C4A9) (4.7.6)\n",
      "Requirement already satisfied: requests in /opt/anaconda3/lib/python3.8/site-packages (from bentoml==0.8.5->TextDetectionService===20200911160359-13C4A9) (2.24.0)\n",
      "Requirement already satisfied: sqlalchemy-utils in /opt/anaconda3/lib/python3.8/site-packages (from bentoml==0.8.5->TextDetectionService===20200911160359-13C4A9) (0.36.8)\n",
      "Requirement already satisfied: protobuf>=3.6.0 in /opt/anaconda3/lib/python3.8/site-packages (from bentoml==0.8.5->TextDetectionService===20200911160359-13C4A9) (3.13.0)\n",
      "Requirement already satisfied: sqlalchemy>=1.3.0 in /opt/anaconda3/lib/python3.8/site-packages (from bentoml==0.8.5->TextDetectionService===20200911160359-13C4A9) (1.3.18)\n",
      "Requirement already satisfied: jmespath<1.0.0,>=0.7.1 in /opt/anaconda3/lib/python3.8/site-packages (from boto3->bentoml==0.8.5->TextDetectionService===20200911160359-13C4A9) (0.10.0)\n",
      "Requirement already satisfied: s3transfer<0.4.0,>=0.3.0 in /opt/anaconda3/lib/python3.8/site-packages (from boto3->bentoml==0.8.5->TextDetectionService===20200911160359-13C4A9) (0.3.3)\n",
      "Requirement already satisfied: botocore<1.18.0,>=1.17.48 in /opt/anaconda3/lib/python3.8/site-packages (from boto3->bentoml==0.8.5->TextDetectionService===20200911160359-13C4A9) (1.17.48)\n",
      "Requirement already satisfied: setuptools in /opt/anaconda3/lib/python3.8/site-packages (from cerberus->bentoml==0.8.5->TextDetectionService===20200911160359-13C4A9) (49.2.0.post20200714)\n",
      "Requirement already satisfied: ruamel.yaml.clib>=0.1.2; platform_python_implementation == \"CPython\" and python_version < \"3.9\" in /opt/anaconda3/lib/python3.8/site-packages (from ruamel.yaml>=0.15.0->bentoml==0.8.5->TextDetectionService===20200911160359-13C4A9) (0.2.0)\n",
      "Requirement already satisfied: Jinja2>=2.10.1 in /opt/anaconda3/lib/python3.8/site-packages (from flask->bentoml==0.8.5->TextDetectionService===20200911160359-13C4A9) (2.11.2)\n",
      "Requirement already satisfied: itsdangerous>=0.24 in /opt/anaconda3/lib/python3.8/site-packages (from flask->bentoml==0.8.5->TextDetectionService===20200911160359-13C4A9) (1.1.0)\n",
      "Requirement already satisfied: Werkzeug>=0.15 in /opt/anaconda3/lib/python3.8/site-packages (from flask->bentoml==0.8.5->TextDetectionService===20200911160359-13C4A9) (1.0.1)\n",
      "Requirement already satisfied: six>=1.5.2 in /opt/anaconda3/lib/python3.8/site-packages (from grpcio<=1.27.2->bentoml==0.8.5->TextDetectionService===20200911160359-13C4A9) (1.15.0)\n",
      "Requirement already satisfied: attrs>=17.3.0 in /opt/anaconda3/lib/python3.8/site-packages (from aiohttp->bentoml==0.8.5->TextDetectionService===20200911160359-13C4A9) (19.3.0)\n",
      "Requirement already satisfied: yarl<2.0,>=1.0 in /opt/anaconda3/lib/python3.8/site-packages (from aiohttp->bentoml==0.8.5->TextDetectionService===20200911160359-13C4A9) (1.5.1)\n",
      "Requirement already satisfied: async-timeout<4.0,>=3.0 in /opt/anaconda3/lib/python3.8/site-packages (from aiohttp->bentoml==0.8.5->TextDetectionService===20200911160359-13C4A9) (3.0.1)\n",
      "Requirement already satisfied: chardet<4.0,>=2.0 in /opt/anaconda3/lib/python3.8/site-packages (from aiohttp->bentoml==0.8.5->TextDetectionService===20200911160359-13C4A9) (3.0.4)\n",
      "Requirement already satisfied: thriftpy2>=0.4.0 in /opt/anaconda3/lib/python3.8/site-packages (from py-zipkin->bentoml==0.8.5->TextDetectionService===20200911160359-13C4A9) (0.4.11)\n",
      "Requirement already satisfied: Mako in /opt/anaconda3/lib/python3.8/site-packages (from alembic->bentoml==0.8.5->TextDetectionService===20200911160359-13C4A9) (1.1.3)\n",
      "Requirement already satisfied: python-editor>=0.3 in /opt/anaconda3/lib/python3.8/site-packages (from alembic->bentoml==0.8.5->TextDetectionService===20200911160359-13C4A9) (1.0.4)\n",
      "Requirement already satisfied: websocket-client>=0.32.0 in /opt/anaconda3/lib/python3.8/site-packages (from docker->bentoml==0.8.5->TextDetectionService===20200911160359-13C4A9) (0.57.0)\n",
      "Requirement already satisfied: pyparsing>=2.0.2 in /opt/anaconda3/lib/python3.8/site-packages (from packaging->bentoml==0.8.5->TextDetectionService===20200911160359-13C4A9) (2.4.7)\n",
      "Requirement already satisfied: urllib3!=1.25.0,!=1.25.1,<1.26,>=1.21.1 in /opt/anaconda3/lib/python3.8/site-packages (from requests->bentoml==0.8.5->TextDetectionService===20200911160359-13C4A9) (1.25.9)\n",
      "Requirement already satisfied: idna<3,>=2.5 in /opt/anaconda3/lib/python3.8/site-packages (from requests->bentoml==0.8.5->TextDetectionService===20200911160359-13C4A9) (2.10)\n",
      "Requirement already satisfied: docutils<0.16,>=0.10 in /opt/anaconda3/lib/python3.8/site-packages (from botocore<1.18.0,>=1.17.48->boto3->bentoml==0.8.5->TextDetectionService===20200911160359-13C4A9) (0.15.2)\n",
      "Requirement already satisfied: MarkupSafe>=0.23 in /opt/anaconda3/lib/python3.8/site-packages (from Jinja2>=2.10.1->flask->bentoml==0.8.5->TextDetectionService===20200911160359-13C4A9) (1.1.1)\n",
      "Requirement already satisfied: ply<4.0,>=3.4 in /opt/anaconda3/lib/python3.8/site-packages (from thriftpy2>=0.4.0->py-zipkin->bentoml==0.8.5->TextDetectionService===20200911160359-13C4A9) (3.11)\n",
      "Building wheels for collected packages: TextDetectionService\n",
      "  Building wheel for TextDetectionService (setup.py) ... \u001b[?25ldone\n",
      "\u001b[?25h  Created wheel for TextDetectionService: filename=TextDetectionService-20200911160359_13C4A9-py3-none-any.whl size=4755 sha256=a94afe43a5460760558520902bddf1a8f970bfbe6b4016b50194aac3390884e6\n",
      "  Stored in directory: /private/var/folders/83/g17gnwks0cs_007kl7c03mdr0000gn/T/pip-ephem-wheel-cache-iwlf5vog/wheels/4e/77/44/83d90a849df21517ea00011bcf0476f08a58b6a1ce38aa1df1\n",
      "Successfully built TextDetectionService\n",
      "Installing collected packages: TextDetectionService\n",
      "Successfully installed TextDetectionService-20200911160359-13C4A9\n"
     ]
    }
   ],
   "source": [
    "!pip install {saved_path}"
   ]
  },
  {
   "cell_type": "code",
   "execution_count": 12,
   "metadata": {},
   "outputs": [
    {
     "data": {
      "text/plain": [
       "{'has_text': 'True', 'text': 'neral na plate number...'}"
      ]
     },
     "execution_count": 12,
     "metadata": {},
     "output_type": "execute_result"
    }
   ],
   "source": [
    "# Ultracold class published as a package\n",
    "import TextDetectionService\n",
    "\n",
    "text_detect = TextDetectionService.load()\n",
    "text_detect.predict('images/plate_number.jpg')"
   ]
  },
  {
   "cell_type": "markdown",
   "metadata": {},
   "source": [
    "### Docker Build"
   ]
  },
  {
   "cell_type": "markdown",
   "metadata": {},
   "source": [
    "!cd {saved_path} && docker build -t text-detector ."
   ]
  }
 ],
 "metadata": {
  "kernelspec": {
   "display_name": "Python 3",
   "language": "python",
   "name": "python3"
  },
  "language_info": {
   "codemirror_mode": {
    "name": "ipython",
    "version": 3
   },
   "file_extension": ".py",
   "mimetype": "text/x-python",
   "name": "python",
   "nbconvert_exporter": "python",
   "pygments_lexer": "ipython3",
   "version": "3.8.3"
  }
 },
 "nbformat": 4,
 "nbformat_minor": 4
}
